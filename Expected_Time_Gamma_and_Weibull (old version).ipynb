{
  "nbformat": 4,
  "nbformat_minor": 0,
  "metadata": {
    "colab": {
      "name": "Expected Time - Gamma and Weibull.ipynb",
      "provenance": [],
      "authorship_tag": "ABX9TyPjcYIJYuwvKMH5DPKDaKGE",
      "include_colab_link": true
    },
    "kernelspec": {
      "name": "python3",
      "display_name": "Python 3"
    },
    "language_info": {
      "name": "python"
    }
  },
  "cells": [
    {
      "cell_type": "markdown",
      "metadata": {
        "id": "view-in-github",
        "colab_type": "text"
      },
      "source": [
        "<a href=\"https://colab.research.google.com/github/xuxiufeng/Blockchain_Simulations/blob/main/Expected_Time_Gamma_and_Weibull.ipynb\" target=\"_parent\"><img src=\"https://colab.research.google.com/assets/colab-badge.svg\" alt=\"Open In Colab\"/></a>"
      ]
    },
    {
      "cell_type": "code",
      "execution_count": 169,
      "metadata": {
        "id": "FNDYSmmNN-4K"
      },
      "outputs": [],
      "source": [
        "from scipy.stats import weibull_min\n",
        "import numpy as np\n",
        "import matplotlib.pyplot as plt"
      ]
    },
    {
      "cell_type": "code",
      "source": [
        "np.random.seed(1)"
      ],
      "metadata": {
        "id": "-NiquQB1OWji"
      },
      "execution_count": 170,
      "outputs": []
    },
    {
      "cell_type": "code",
      "source": [
        "def ET_m(m, eta, delta, alpha, beta):\n",
        "    def T_m(m, eta, delta, alpha, beta):\n",
        "        sum_of_y = 0\n",
        "        y = weibull_min.rvs(c=beta, scale=alpha)\n",
        "        sum_of_x = np.sum(np.random.gamma(eta, delta, m))\n",
        "        while sum_of_x > y:\n",
        "            sum_of_y = sum_of_y + y\n",
        "            sum_of_x = np.sum(np.random.gamma(eta, delta, m))\n",
        "            y = weibull_min.rvs(c=beta, scale=alpha)\n",
        "        return(sum_of_y + sum_of_x)\n",
        "\n",
        "    ET = np.repeat(np.nan, m)\n",
        "    for i in range(m):\n",
        "        T_0 = 0\n",
        "        iter = 130000 # iter 130000\n",
        "        for j in range(iter):\n",
        "            T_0 += T_m(i+1, eta, delta, alpha, beta)\n",
        "        ET[i] = T_0/iter\n",
        "    return(ET)"
      ],
      "metadata": {
        "id": "i5mE5UwCOWmf"
      },
      "execution_count": 171,
      "outputs": []
    },
    {
      "cell_type": "code",
      "source": [
        "m = 40\n",
        "eta = 0.02\n",
        "delta = 200\n",
        "alpha = 110\n",
        "beta = 150\n",
        "ET_m = ET_m(m, eta, delta, alpha, beta)\n",
        "fig = plt.figure(figsize=(8, 6))\n",
        "plt.scatter(range(1, m+1), ET_m)\n",
        "plt.xlabel(r'$m$')\n",
        "plt.ylabel(r'$E[T_m]$ (unit: hour)')\n",
        "plt.title('Gamma Hacking and Weibull Detecting Times')\n",
        "plt.show()"
      ],
      "metadata": {
        "colab": {
          "base_uri": "https://localhost:8080/",
          "height": 404
        },
        "id": "abF2F6NIOWpl",
        "outputId": "c951f2cf-e581-498c-bbbb-54e5acfcd8b8"
      },
      "execution_count": 172,
      "outputs": [
        {
          "output_type": "display_data",
          "data": {
            "image/png": "[encoded data removed]",
            "text/plain": [
              "<Figure size 576x432 with 1 Axes>"
            ]
          },
          "metadata": {
            "needs_background": "light"
          }
        }
      ]
    },
    {
      "cell_type": "code",
      "source": [
        "R = 10\n",
        "C_2 = [c**.02  for c in range(1, m+1)]\n",
        "C_1 = [c**.001  for c in range(1, m+1)]\n",
        "E_mNR = np.repeat(np.nan, len(ET_m))\n",
        "for j in range(m):\n",
        "  E_mNR[j] = R - C_2[j] - C_1[j]/ET_m[j]\n",
        "m_max = np.where(E_mNR == max(E_mNR))[0][0] + 1\n",
        "print(m_max, max(E_mNR))"
      ],
      "metadata": {
        "id": "knDg4XG96-E_",
        "outputId": "7e6f56c8-8fe7-4e30-fde7-589b7b71e926",
        "colab": {
          "base_uri": "https://localhost:8080/"
        }
      },
      "execution_count": 173,
      "outputs": [
        {
          "output_type": "stream",
          "name": "stdout",
          "text": [
            "17 8.921646159592072\n"
          ]
        }
      ]
    },
    {
      "cell_type": "code",
      "source": [
        "fig = plt.figure(figsize=(8, 6))\n",
        "plt.scatter(range(1, m+1), E_mNR)\n",
        "plt.axvline(x = m_max, c='red')\n",
        "plt.xlabel(r'$m$')\n",
        "plt.ylabel(r'$E_m[NR]$')\n",
        "plt.title(r'Expected Net Revenue Versus $m$')\n",
        "plt.show()"
      ],
      "metadata": {
        "id": "UC7jLz-16-jQ",
        "outputId": "2df5ada2-d01b-431c-e196-86b1c6999f0a",
        "colab": {
          "base_uri": "https://localhost:8080/",
          "height": 406
        }
      },
      "execution_count": 174,
      "outputs": [
        {
          "output_type": "display_data",
          "data": {
            "image/png": "[encoded data removed]",
            "text/plain": [
              "<Figure size 576x432 with 1 Axes>"
            ]
          },
          "metadata": {
            "needs_background": "light"
          }
        }
      ]
    }
  ]
}