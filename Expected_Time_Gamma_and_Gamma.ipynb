{
  "nbformat": 4,
  "nbformat_minor": 0,
  "metadata": {
    "colab": {
      "name": "Expected Time - Gamma and Gamma.ipynb",
      "provenance": [],
      "authorship_tag": "ABX9TyOJEH+/1l8EHM0UZcNQx/Xp",
      "include_colab_link": true
    },
    "kernelspec": {
      "name": "python3",
      "display_name": "Python 3"
    },
    "language_info": {
      "name": "python"
    }
  },
  "cells": [
    {
      "cell_type": "markdown",
      "metadata": {
        "id": "view-in-github",
        "colab_type": "text"
      },
      "source": [
        "<a href=\"https://colab.research.google.com/github/xuxiufeng/Blockchain_Simulations_Revised/blob/main/Expected_Time_Gamma_and_Gamma.ipynb\" target=\"_parent\"><img src=\"https://colab.research.google.com/assets/colab-badge.svg\" alt=\"Open In Colab\"/></a>"
      ]
    },
    {
      "cell_type": "code",
      "execution_count": 239,
      "metadata": {
        "id": "9mI6X6bQOt0I"
      },
      "outputs": [],
      "source": [
        "import numpy as np\n",
        "import matplotlib.pyplot as plt"
      ]
    },
    {
      "cell_type": "code",
      "source": [
        "np.random.seed(1)"
      ],
      "metadata": {
        "id": "PFvx_XakO3G_"
      },
      "execution_count": 240,
      "outputs": []
    },
    {
      "cell_type": "code",
      "source": [
        "def ET_m(m, eta, delta, alpha, beta):\n",
        "    def T_m(m, eta, delta, alpha, beta):\n",
        "        sum_of_y = 0\n",
        "        y = np.random.gamma(alpha, beta)\n",
        "        sum_of_x = np.sum(np.random.gamma(eta, delta, m))\n",
        "        while sum_of_x > y:\n",
        "            sum_of_y = sum_of_y + y\n",
        "            sum_of_x = np.sum(np.random.gamma(eta, delta, m))\n",
        "            y = np.random.gamma(alpha, beta)\n",
        "        return(sum_of_y + sum_of_x)\n",
        "\n",
        "    ET = np.repeat(np.nan, m)\n",
        "    for i in range(m):\n",
        "        T_0 = 0\n",
        "        iter = 80000 # iter 80000\n",
        "        for j in range(iter):\n",
        "            T_0 += T_m(i+1, eta, delta, alpha, beta)\n",
        "        ET[i] = T_0/iter\n",
        "    return(ET)\n"
      ],
      "metadata": {
        "id": "Tz-Bdy3qO3Pj"
      },
      "execution_count": 241,
      "outputs": []
    },
    {
      "cell_type": "code",
      "source": [
        "m = 40\n",
        "eta = 0.05\n",
        "delta = 15\n",
        "alpha = 2\n",
        "beta = 10\n",
        "ET_m = ET_m(m, eta, delta, alpha, beta)\n",
        "fig = plt.figure(figsize=(8, 6))\n",
        "plt.scatter(range(1, m+1), ET_m)\n",
        "plt.xlabel(r'$m$')\n",
        "plt.ylabel(r'$E[T_m]$ (unit: hour)')\n",
        "plt.title('Gamma Hacking and Gamma Detecting Times')\n",
        "plt.show()"
      ],
      "metadata": {
        "colab": {
          "base_uri": "https://localhost:8080/",
          "height": 404
        },
        "id": "etIpyGd2O3SM",
        "outputId": "765fd663-5574-49a1-ca56-763245309572"
      },
      "execution_count": 242,
      "outputs": [
        {
          "output_type": "display_data",
          "data": {
            "text/plain": [
              "<Figure size 576x432 with 1 Axes>"
            ],
            "image/png": "[encoded data removed]"
          },
          "metadata": {
            "needs_background": "light"
          }
        }
      ]
    },
    {
      "cell_type": "code",
      "source": [
        "m = 40\n",
        "alpha = 2\n",
        "beta = 10"
      ],
      "metadata": {
        "id": "lw6J9c7vV1Dy"
      },
      "execution_count": 243,
      "outputs": []
    },
    {
      "cell_type": "markdown",
      "source": [
        "## U shape"
      ],
      "metadata": {
        "id": "0ySegLBFRrhh"
      }
    },
    {
      "cell_type": "code",
      "source": [
        "R = [.02*np.exp(np.sqrt(c)) for c in range(1, m+1)] # U Shape\n",
        "C_2 = [.1*c for c in range(1, m+1)] # 0.1*c\n",
        "C_1 = [.6*c**.2 for c in range(1, m+1)]\n",
        "E_mNR = np.repeat(np.nan, m)\n",
        "for j in range(m):\n",
        "  E_mNR[j] = R[j] - C_2[j] - C_1[j]/(alpha/beta)\n",
        "m_max = np.where(E_mNR == max(E_mNR))[0][0] + 1\n",
        "print(m_max, max(E_mNR))"
      ],
      "metadata": {
        "id": "O2M7vPDrwxdd",
        "outputId": "438897fc-2ddb-4c4e-bc5b-2550fe901a47",
        "colab": {
          "base_uri": "https://localhost:8080/"
        }
      },
      "execution_count": 244,
      "outputs": [
        {
          "output_type": "stream",
          "name": "stdout",
          "text": [
            "40 0.8883542543942164\n"
          ]
        }
      ]
    },
    {
      "cell_type": "code",
      "source": [
        "fig = plt.figure(figsize=(8, 6))\n",
        "plt.scatter(range(1, m+1), E_mNR)\n",
        "plt.axvline(x = m_max, c='red')\n",
        "plt.xlabel(r'$m$')\n",
        "plt.ylabel(r'$E_m[NR]$')\n",
        "plt.title(r'Expected Net Revenue Versus $m$')\n",
        "plt.show()"
      ],
      "metadata": {
        "id": "EUZoBcm2wx8F",
        "outputId": "4769b472-3811-4e48-ec94-a46b88b0a0e7",
        "colab": {
          "base_uri": "https://localhost:8080/",
          "height": 406
        }
      },
      "execution_count": 245,
      "outputs": [
        {
          "output_type": "display_data",
          "data": {
            "text/plain": [
              "<Figure size 576x432 with 1 Axes>"
            ],
            "image/png": "[encoded data removed]"
          },
          "metadata": {
            "needs_background": "light"
          }
        }
      ]
    },
    {
      "cell_type": "markdown",
      "source": [
        "## Increasing"
      ],
      "metadata": {
        "id": "70bWPrNOR3DT"
      }
    },
    {
      "cell_type": "code",
      "source": [
        "R = [2*np.exp(np.sqrt(c)) for c in range(1, m+1)] # Increasing\n",
        "C_2 = [.1*c for c in range(1, m+1)]\n",
        "C_1 = [.6*c**.2 for c in range(1, m+1)]\n",
        "E_mNR = np.repeat(np.nan, m)\n",
        "for j in range(m):\n",
        "  E_mNR[j] = R[j] - C_2[j] - C_1[j]/(alpha/beta)\n",
        "m_max = np.where(E_mNR == max(E_mNR))[0][0] + 1\n",
        "print(m_max, max(E_mNR))"
      ],
      "metadata": {
        "id": "WWMJA-fMSGX0",
        "outputId": "7f2cd15a-b0e4-4962-9a7c-2486a0532f34",
        "colab": {
          "base_uri": "https://localhost:8080/"
        }
      },
      "execution_count": 246,
      "outputs": [
        {
          "output_type": "stream",
          "name": "stdout",
          "text": [
            "40 1105.945319678638\n"
          ]
        }
      ]
    },
    {
      "cell_type": "code",
      "source": [
        "fig = plt.figure(figsize=(8, 6))\n",
        "plt.scatter(range(1, m+1), E_mNR)\n",
        "plt.axvline(x = m_max, c='red')\n",
        "plt.xlabel(r'$m$')\n",
        "plt.ylabel(r'$E_m[NR]$')\n",
        "plt.title(r'Expected Net Revenue Versus $m$')\n",
        "plt.show()"
      ],
      "metadata": {
        "id": "7BlYcgvoSG6T",
        "outputId": "18959d9d-9451-44c7-d4c1-fa29b8941ac8",
        "colab": {
          "base_uri": "https://localhost:8080/",
          "height": 406
        }
      },
      "execution_count": 247,
      "outputs": [
        {
          "output_type": "display_data",
          "data": {
            "text/plain": [
              "<Figure size 576x432 with 1 Axes>"
            ],
            "image/png": "[encoded data removed]"
          },
          "metadata": {
            "needs_background": "light"
          }
        }
      ]
    },
    {
      "cell_type": "markdown",
      "source": [
        "## Converse U shape"
      ],
      "metadata": {
        "id": "IQ1crumwSUwF"
      }
    },
    {
      "cell_type": "code",
      "source": [
        "R = [1.4*np.sqrt(c) for c in range(1, m+1)]\n",
        "C_2 = [.1*c for c in range(1, m+1)]\n",
        "C_1 = [.6*c**.2 for c in range(1, m+1)]\n",
        "E_mNR = np.repeat(np.nan, m)\n",
        "for j in range(m):\n",
        "  E_mNR[j] = R[j] - C_2[j] - C_1[j]/(alpha/beta)\n",
        "m_max = np.where(E_mNR == max(E_mNR))[0][0] + 1\n",
        "print(m_max, max(E_mNR))"
      ],
      "metadata": {
        "id": "_51A7ciBSXbu",
        "outputId": "41b5256a-fab7-4e77-a498-b4bbd9e7c11f",
        "colab": {
          "base_uri": "https://localhost:8080/"
        }
      },
      "execution_count": 248,
      "outputs": [
        {
          "output_type": "stream",
          "name": "stdout",
          "text": [
            "21 -1.1996428888194561\n"
          ]
        }
      ]
    },
    {
      "cell_type": "code",
      "source": [
        "fig = plt.figure(figsize=(8, 6))\n",
        "plt.scatter(range(1, m+1), E_mNR)\n",
        "plt.axvline(x = m_max, c='red')\n",
        "plt.xlabel(r'$m$')\n",
        "plt.ylabel(r'$E_m[NR]$')\n",
        "plt.title(r'Expected Net Revenue Versus $m$')\n",
        "plt.show()"
      ],
      "metadata": {
        "id": "ukx_cWxfSZ7H",
        "outputId": "537afd0b-53b3-41a3-dd74-4baaa0b84893",
        "colab": {
          "base_uri": "https://localhost:8080/",
          "height": 406
        }
      },
      "execution_count": 249,
      "outputs": [
        {
          "output_type": "display_data",
          "data": {
            "text/plain": [
              "<Figure size 576x432 with 1 Axes>"
            ],
            "image/png": "[encoded data removed]"
          },
          "metadata": {
            "needs_background": "light"
          }
        }
      ]
    }
  ]
}