{
  "nbformat": 4,
  "nbformat_minor": 0,
  "metadata": {
    "colab": {
      "name": "Expected Time - Gamma and Gamma.ipynb",
      "provenance": [],
      "authorship_tag": "ABX9TyNy9zWp/ncSyUUu7CFMNpCZ",
      "include_colab_link": true
    },
    "kernelspec": {
      "name": "python3",
      "display_name": "Python 3"
    },
    "language_info": {
      "name": "python"
    }
  },
  "cells": [
    {
      "cell_type": "markdown",
      "metadata": {
        "id": "view-in-github",
        "colab_type": "text"
      },
      "source": [
        "<a href=\"https://colab.research.google.com/github/xuxiufeng/Blockchain_Simulations_Revised/blob/main/Expected_Time_Gamma_and_Gamma.ipynb\" target=\"_parent\"><img src=\"https://colab.research.google.com/assets/colab-badge.svg\" alt=\"Open In Colab\"/></a>"
      ]
    },
    {
      "cell_type": "code",
      "execution_count": 2,
      "metadata": {
        "id": "9mI6X6bQOt0I"
      },
      "outputs": [],
      "source": [
        "import numpy as np\n",
        "import matplotlib.pyplot as plt"
      ]
    },
    {
      "cell_type": "code",
      "source": [
        "np.random.seed(1)"
      ],
      "metadata": {
        "id": "PFvx_XakO3G_"
      },
      "execution_count": 3,
      "outputs": []
    },
    {
      "cell_type": "code",
      "source": [
        "def ET_m(m, eta, delta, alpha, beta):\n",
        "    def T_m(m, eta, delta, alpha, beta):\n",
        "        sum_of_y = 0\n",
        "        y = np.random.gamma(alpha, beta)\n",
        "        sum_of_x = np.sum(np.random.gamma(eta, delta, m))\n",
        "        while sum_of_x > y:\n",
        "            sum_of_y = sum_of_y + y\n",
        "            sum_of_x = np.sum(np.random.gamma(eta, delta, m))\n",
        "            y = np.random.gamma(alpha, beta)\n",
        "        return(sum_of_y + sum_of_x)\n",
        "\n",
        "    ET = np.repeat(np.nan, m)\n",
        "    for i in range(m):\n",
        "        T_0 = 0\n",
        "        iter = 80000 # iter 80000\n",
        "        for j in range(iter):\n",
        "            T_0 += T_m(i+1, eta, delta, alpha, beta)\n",
        "        ET[i] = T_0/iter\n",
        "    return(ET)\n"
      ],
      "metadata": {
        "id": "Tz-Bdy3qO3Pj"
      },
      "execution_count": 4,
      "outputs": []
    },
    {
      "cell_type": "code",
      "source": [
        "m = 40\n",
        "eta = 0.05\n",
        "delta = 15\n",
        "alpha = 2\n",
        "beta = 10\n",
        "ET_m = ET_m(m, eta, delta, alpha, beta)\n",
        "fig = plt.figure(figsize=(8, 6))\n",
        "plt.scatter(range(1, m+1), ET_m)\n",
        "plt.xlabel(r'$m$')\n",
        "plt.ylabel(r'$E[T_m]$ (unit: hour)')\n",
        "plt.title('Gamma Hacking and Gamma Detecting Times')\n",
        "plt.show()"
      ],
      "metadata": {
        "colab": {
          "base_uri": "https://localhost:8080/",
          "height": 404
        },
        "id": "etIpyGd2O3SM",
        "outputId": "5e515d13-70b9-4804-a936-24045a54b03e"
      },
      "execution_count": 5,
      "outputs": [
        {
          "output_type": "display_data",
          "data": {
            "text/plain": [
              "<Figure size 576x432 with 1 Axes>"
            ],
            "image/png": "[encoded data removed]"
          },
          "metadata": {
            "needs_background": "light"
          }
        }
      ]
    },
    {
      "cell_type": "code",
      "source": [
        "m = 40\n",
        "alpha = 2\n",
        "beta = 10"
      ],
      "metadata": {
        "id": "lw6J9c7vV1Dy"
      },
      "execution_count": 6,
      "outputs": []
    },
    {
      "cell_type": "markdown",
      "source": [
        "## U shape"
      ],
      "metadata": {
        "id": "0ySegLBFRrhh"
      }
    },
    {
      "cell_type": "code",
      "source": [
        "R = [.02*np.exp(np.sqrt(c)) for c in range(1, m+1)] # U Shape\n",
        "C_2 = [.1*c for c in range(1, m+1)] # 0.1*c\n",
        "C_1 = [.6*c**.2 for c in range(1, m+1)]\n",
        "E_mNR = np.repeat(np.nan, m)\n",
        "for j in range(m):\n",
        "  E_mNR[j] = R[j] - C_2[j] - C_1[j]/(alpha/beta)\n",
        "m_max = np.where(E_mNR == max(E_mNR))[0][0] + 1\n",
        "print(m_max, max(E_mNR))"
      ],
      "metadata": {
        "id": "O2M7vPDrwxdd",
        "outputId": "f8576f25-1961-44b0-ad9a-0d95206d7f9e",
        "colab": {
          "base_uri": "https://localhost:8080/"
        }
      },
      "execution_count": 7,
      "outputs": [
        {
          "output_type": "stream",
          "name": "stdout",
          "text": [
            "40 0.8883542543942164\n"
          ]
        }
      ]
    },
    {
      "cell_type": "code",
      "source": [
        "fig = plt.figure(figsize=(8, 6))\n",
        "plt.scatter(range(1, m+1), E_mNR)\n",
        "plt.axvline(x = m_max, c='red')\n",
        "plt.xlabel(r'$m$')\n",
        "plt.ylabel(r'$E_m[NR]$')\n",
        "plt.title(r'Expected Net Revenue Versus $m$')\n",
        "plt.show()"
      ],
      "metadata": {
        "id": "EUZoBcm2wx8F",
        "outputId": "0b3cab0b-c703-4b5e-dfcb-282e7904c361",
        "colab": {
          "base_uri": "https://localhost:8080/",
          "height": 406
        }
      },
      "execution_count": 8,
      "outputs": [
        {
          "output_type": "display_data",
          "data": {
            "text/plain": [
              "<Figure size 576x432 with 1 Axes>"
            ],
            "image/png": "[encoded data removed]"
          },
          "metadata": {
            "needs_background": "light"
          }
        }
      ]
    },
    {
      "cell_type": "markdown",
      "source": [
        "## Increasing"
      ],
      "metadata": {
        "id": "70bWPrNOR3DT"
      }
    },
    {
      "cell_type": "code",
      "source": [
        "R = [2*np.exp(np.sqrt(c)) for c in range(1, m+1)] # Increasing\n",
        "C_2 = [.1*c for c in range(1, m+1)]\n",
        "C_1 = [.6*c**.2 for c in range(1, m+1)]\n",
        "E_mNR = np.repeat(np.nan, m)\n",
        "for j in range(m):\n",
        "  E_mNR[j] = R[j] - C_2[j] - C_1[j]/(alpha/beta)\n",
        "m_max = np.where(E_mNR == max(E_mNR))[0][0] + 1\n",
        "print(m_max, max(E_mNR))"
      ],
      "metadata": {
        "id": "WWMJA-fMSGX0",
        "outputId": "0b5f3537-77c4-4701-aac5-b223efedbb99",
        "colab": {
          "base_uri": "https://localhost:8080/"
        }
      },
      "execution_count": 9,
      "outputs": [
        {
          "output_type": "stream",
          "name": "stdout",
          "text": [
            "40 1105.945319678638\n"
          ]
        }
      ]
    },
    {
      "cell_type": "code",
      "source": [
        "fig = plt.figure(figsize=(8, 6))\n",
        "plt.scatter(range(1, m+1), E_mNR)\n",
        "plt.axvline(x = m_max, c='red')\n",
        "plt.xlabel(r'$m$')\n",
        "plt.ylabel(r'$E_m[NR]$')\n",
        "plt.title(r'Expected Net Revenue Versus $m$')\n",
        "plt.show()"
      ],
      "metadata": {
        "id": "7BlYcgvoSG6T",
        "outputId": "00750b34-3ded-4b77-b5a2-dfcfe91198d0",
        "colab": {
          "base_uri": "https://localhost:8080/",
          "height": 406
        }
      },
      "execution_count": 10,
      "outputs": [
        {
          "output_type": "display_data",
          "data": {
            "text/plain": [
              "<Figure size 576x432 with 1 Axes>"
            ],
            "image/png": "[encoded data removed]"
          },
          "metadata": {
            "needs_background": "light"
          }
        }
      ]
    },
    {
      "cell_type": "markdown",
      "source": [
        "## Converse U shape(Chosen)"
      ],
      "metadata": {
        "id": "IQ1crumwSUwF"
      }
    },
    {
      "cell_type": "code",
      "source": [
        "R = [1.4*np.sqrt(c) + 10 for c in range(1, m+1)]\n",
        "C_2 = [.1*c for c in range(1, m+1)]\n",
        "C_1 = [.6*c**.2 for c in range(1, m+1)]\n",
        "E_mNR = np.repeat(np.nan, m)\n",
        "for j in range(m):\n",
        "  E_mNR[j] = R[j] - C_2[j] - C_1[j]/(alpha/beta)\n",
        "m_max = np.where(E_mNR == max(E_mNR))[0][0] + 1\n",
        "print(m_max, max(E_mNR))"
      ],
      "metadata": {
        "id": "_51A7ciBSXbu",
        "outputId": "d7c01a1a-db5f-4be6-c84b-d75297c3e9da",
        "colab": {
          "base_uri": "https://localhost:8080/"
        }
      },
      "execution_count": 17,
      "outputs": [
        {
          "output_type": "stream",
          "name": "stdout",
          "text": [
            "21 8.800357111180542\n"
          ]
        }
      ]
    },
    {
      "cell_type": "code",
      "source": [
        "fig = plt.figure(figsize=(8, 6))\n",
        "plt.scatter(range(1, m+1), E_mNR)\n",
        "plt.axvline(x = m_max, c='red')\n",
        "plt.xlabel(r'$m$')\n",
        "plt.ylabel(r'$E_m[NR]$')\n",
        "plt.title(r'Expected Net Revenue Versus $m$')\n",
        "plt.show()"
      ],
      "metadata": {
        "id": "ukx_cWxfSZ7H",
        "outputId": "f83885b1-a743-45f8-bd81-32fe25343123",
        "colab": {
          "base_uri": "https://localhost:8080/",
          "height": 406
        }
      },
      "execution_count": 18,
      "outputs": [
        {
          "output_type": "display_data",
          "data": {
            "text/plain": [
              "<Figure size 576x432 with 1 Axes>"
            ],
            "image/png": "[encoded data removed]"
          },
          "metadata": {
            "needs_background": "light"
          }
        }
      ]
    }
  ]
}