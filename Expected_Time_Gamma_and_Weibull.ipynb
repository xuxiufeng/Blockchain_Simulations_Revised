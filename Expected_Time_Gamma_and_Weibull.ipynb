{
  "nbformat": 4,
  "nbformat_minor": 0,
  "metadata": {
    "colab": {
      "name": "Expected Time - Gamma and Weibull.ipynb",
      "provenance": [],
      "authorship_tag": "ABX9TyN7st8AVc5ACLz3hyltbUnF",
      "include_colab_link": true
    },
    "kernelspec": {
      "name": "python3",
      "display_name": "Python 3"
    },
    "language_info": {
      "name": "python"
    }
  },
  "cells": [
    {
      "cell_type": "markdown",
      "metadata": {
        "id": "view-in-github",
        "colab_type": "text"
      },
      "source": [
        "<a href=\"https://colab.research.google.com/github/xuxiufeng/Blockchain_Simulations_Revised/blob/main/Expected_Time_Gamma_and_Weibull.ipynb\" target=\"_parent\"><img src=\"https://colab.research.google.com/assets/colab-badge.svg\" alt=\"Open In Colab\"/></a>"
      ]
    },
    {
      "cell_type": "code",
      "execution_count": 1,
      "metadata": {
        "id": "FNDYSmmNN-4K"
      },
      "outputs": [],
      "source": [
        "from scipy.stats import weibull_min\n",
        "import numpy as np\n",
        "import matplotlib.pyplot as plt\n",
        "import math"
      ]
    },
    {
      "cell_type": "code",
      "source": [
        "np.random.seed(1)"
      ],
      "metadata": {
        "id": "-NiquQB1OWji"
      },
      "execution_count": 2,
      "outputs": []
    },
    {
      "cell_type": "code",
      "source": [
        "def ET_m(m, eta, delta, alpha, beta):\n",
        "    def T_m(m, eta, delta, alpha, beta):\n",
        "        sum_of_y = 0\n",
        "        y = weibull_min.rvs(c=beta, scale=alpha)\n",
        "        sum_of_x = np.sum(np.random.gamma(eta, delta, m))\n",
        "        while sum_of_x > y:\n",
        "            sum_of_y = sum_of_y + y\n",
        "            sum_of_x = np.sum(np.random.gamma(eta, delta, m))\n",
        "            y = weibull_min.rvs(c=beta, scale=alpha)\n",
        "        return(sum_of_y + sum_of_x)\n",
        "\n",
        "    ET = np.repeat(np.nan, m)\n",
        "    for i in range(m):\n",
        "        T_0 = 0\n",
        "        iter = 130000 # iter 130000\n",
        "        for j in range(iter):\n",
        "            T_0 += T_m(i+1, eta, delta, alpha, beta)\n",
        "        ET[i] = T_0/iter\n",
        "    return(ET)"
      ],
      "metadata": {
        "id": "i5mE5UwCOWmf"
      },
      "execution_count": 3,
      "outputs": []
    },
    {
      "cell_type": "code",
      "source": [
        "m = 40\n",
        "eta = 0.02\n",
        "delta = 200\n",
        "alpha = 110\n",
        "beta = 150\n",
        "ET_m = ET_m(m, eta, delta, alpha, beta)\n",
        "fig = plt.figure(figsize=(8, 6))\n",
        "plt.scatter(range(1, m+1), ET_m)\n",
        "plt.xlabel(r'$m$')\n",
        "plt.ylabel(r'$E[T_m]$ (unit: hour)')\n",
        "plt.title('Gamma Hacking and Weibull Detecting Times')\n",
        "plt.show()"
      ],
      "metadata": {
        "colab": {
          "base_uri": "https://localhost:8080/",
          "height": 404
        },
        "id": "abF2F6NIOWpl",
        "outputId": "bf72315b-341d-4cc4-d8f5-7d2729eb73ed"
      },
      "execution_count": 4,
      "outputs": [
        {
          "output_type": "display_data",
          "data": {
            "text/plain": [
              "<Figure size 576x432 with 1 Axes>"
            ],
            "image/png": "[encoded data removed]"
          },
          "metadata": {
            "needs_background": "light"
          }
        }
      ]
    },
    {
      "cell_type": "code",
      "source": [
        "m = 40\n",
        "alpha = 110\n",
        "beta = 150"
      ],
      "metadata": {
        "id": "U9OLfOw9WyZn"
      },
      "execution_count": 5,
      "outputs": []
    },
    {
      "cell_type": "markdown",
      "source": [
        "## U shape"
      ],
      "metadata": {
        "id": "49TPqG-Ijor0"
      }
    },
    {
      "cell_type": "code",
      "source": [
        "R = [.01*np.exp(np.sqrt(c)) for c in range(1, m+1)] # U Shape\n",
        "C_2 = [.1*c for c in range(1, m+1)] # 0.1*c\n",
        "C_1 = [.6*c**.2 for c in range(1, m+1)]\n",
        "E_mNR = np.repeat(np.nan, m)\n",
        "for j in range(m):\n",
        "  E_mNR[j] = R[j] - C_2[j] - C_1[j]/(alpha*(math.gamma(2+1/beta)))\n",
        "m_max = np.where(E_mNR == max(E_mNR))[0][0] + 1\n",
        "print(m_max, max(E_mNR))"
      ],
      "metadata": {
        "id": "knDg4XG96-E_",
        "outputId": "983530fa-33cc-4a97-c3b2-b48ad0fc275b",
        "colab": {
          "base_uri": "https://localhost:8080/"
        }
      },
      "execution_count": 6,
      "outputs": [
        {
          "output_type": "stream",
          "name": "stdout",
          "text": [
            "40 1.5697210768357712\n"
          ]
        }
      ]
    },
    {
      "cell_type": "code",
      "source": [
        "fig = plt.figure(figsize=(8, 6))\n",
        "plt.scatter(range(1, m+1), E_mNR)\n",
        "plt.axvline(x = m_max, c='red')\n",
        "plt.xlabel(r'$m$')\n",
        "plt.ylabel(r'$E_m[NR]$')\n",
        "plt.title(r'Expected Net Revenue Versus $m$')\n",
        "plt.show()"
      ],
      "metadata": {
        "id": "UC7jLz-16-jQ",
        "outputId": "832462b7-7c8c-4e36-9862-738d258140cc",
        "colab": {
          "base_uri": "https://localhost:8080/",
          "height": 406
        }
      },
      "execution_count": 7,
      "outputs": [
        {
          "output_type": "display_data",
          "data": {
            "text/plain": [
              "<Figure size 576x432 with 1 Axes>"
            ],
            "image/png": "[encoded data removed]"
          },
          "metadata": {
            "needs_background": "light"
          }
        }
      ]
    },
    {
      "cell_type": "markdown",
      "source": [
        "## Increasing"
      ],
      "metadata": {
        "id": "3US253BQnW7U"
      }
    },
    {
      "cell_type": "code",
      "source": [
        "R = [2*np.exp(np.sqrt(c)) for c in range(1, m+1)] # U Shape\n",
        "C_2 = [.1*c for c in range(1, m+1)] # 0.1*c\n",
        "C_1 = [.6*c**.2 for c in range(1, m+1)]\n",
        "E_mNR = np.repeat(np.nan, m)\n",
        "for j in range(m):\n",
        "  E_mNR[j] = R[j] - C_2[j] - C_1[j]/(alpha*(math.gamma(2+1/beta)))\n",
        "m_max = np.where(E_mNR == max(E_mNR))[0][0] + 1\n",
        "print(m_max, max(E_mNR))"
      ],
      "metadata": {
        "id": "Eg2Ccvp7nmu6",
        "outputId": "e1437f2c-ae68-42a2-deb6-f9ee15540a9c",
        "colab": {
          "base_uri": "https://localhost:8080/"
        }
      },
      "execution_count": 8,
      "outputs": [
        {
          "output_type": "stream",
          "name": "stdout",
          "text": [
            "40 1112.2077822860504\n"
          ]
        }
      ]
    },
    {
      "cell_type": "code",
      "source": [
        "fig = plt.figure(figsize=(8, 6))\n",
        "plt.scatter(range(1, m+1), E_mNR)\n",
        "plt.axvline(x = m_max, c='red')\n",
        "plt.xlabel(r'$m$')\n",
        "plt.ylabel(r'$E_m[NR]$')\n",
        "plt.title(r'Expected Net Revenue Versus $m$')\n",
        "plt.show()"
      ],
      "metadata": {
        "id": "tOwl8nZYnm_-",
        "outputId": "8f6c4d38-2a91-4ef6-969b-f5dc8afd5809",
        "colab": {
          "base_uri": "https://localhost:8080/",
          "height": 406
        }
      },
      "execution_count": 9,
      "outputs": [
        {
          "output_type": "display_data",
          "data": {
            "text/plain": [
              "<Figure size 576x432 with 1 Axes>"
            ],
            "image/png": "[encoded data removed]"
          },
          "metadata": {
            "needs_background": "light"
          }
        }
      ]
    },
    {
      "cell_type": "markdown",
      "source": [
        "## Converse U shape(Chosen)"
      ],
      "metadata": {
        "id": "mhUctVQin21U"
      }
    },
    {
      "cell_type": "code",
      "source": [
        "R = [10*np.sqrt(c) for c in range(1, m+1)]\n",
        "C_2 = [c for c in range(1, m+1)]\n",
        "C_1 = [6*c**.2 for c in range(1, m+1)]\n",
        "E_mNR = np.repeat(np.nan, m)\n",
        "for j in range(m):\n",
        "  E_mNR[j] = R[j] - C_2[j] - C_1[j]/(alpha*(math.gamma(2+1/beta)))\n",
        "m_max = np.where(E_mNR == max(E_mNR))[0][0] + 1\n",
        "print(m_max, max(E_mNR))"
      ],
      "metadata": {
        "id": "S4MHlMbKn9z6",
        "outputId": "e374d85c-8004-48c3-d5b6-f90d41df3d4b",
        "colab": {
          "base_uri": "https://localhost:8080/"
        }
      },
      "execution_count": 14,
      "outputs": [
        {
          "output_type": "stream",
          "name": "stdout",
          "text": [
            "25 24.896458067746323\n"
          ]
        }
      ]
    },
    {
      "cell_type": "code",
      "source": [
        "fig = plt.figure(figsize=(8, 6))\n",
        "plt.scatter(range(1, m+1), E_mNR)\n",
        "plt.axvline(x = m_max, c='red')\n",
        "plt.xlabel(r'$m$')\n",
        "plt.ylabel(r'$E_m[NR]$')\n",
        "plt.title(r'Expected Net Revenue Versus $m$')\n",
        "plt.show()"
      ],
      "metadata": {
        "id": "6zhp7NR7oA46",
        "outputId": "40070cee-abc7-4296-aeb2-0cf83989d2c7",
        "colab": {
          "base_uri": "https://localhost:8080/",
          "height": 406
        }
      },
      "execution_count": 15,
      "outputs": [
        {
          "output_type": "display_data",
          "data": {
            "text/plain": [
              "<Figure size 576x432 with 1 Axes>"
            ],
            "image/png": "[encoded data removed]"
          },
          "metadata": {
            "needs_background": "light"
          }
        }
      ]
    }
  ]
}